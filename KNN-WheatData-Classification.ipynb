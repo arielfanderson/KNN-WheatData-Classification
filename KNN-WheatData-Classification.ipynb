{
 "cells": [
  {
   "cell_type": "code",
   "execution_count": 1,
   "metadata": {},
   "outputs": [],
   "source": [
    "import numpy as np\n",
    "import pandas as pd\n",
    "import matplotlib.pyplot as plt\n",
    "import time\n",
    "import os\n",
    "\n",
    "from sklearn.neighbors import KNeighborsClassifier\n",
    "from sklearn.model_selection import train_test_split\n",
    "\n",
    "from sklearn import tree\n",
    "from sklearn.tree import DecisionTreeClassifier\n",
    "from sklearn.metrics import accuracy_score\n",
    "from sklearn.ensemble import RandomForestClassifier"
   ]
  },
  {
   "cell_type": "markdown",
   "metadata": {},
   "source": [
    "Classifying wheat into 1 of 3 varieties. "
   ]
  },
  {
   "cell_type": "code",
   "execution_count": 2,
   "metadata": {},
   "outputs": [
    {
     "name": "stdout",
     "output_type": "stream",
     "text": [
      "Our data has 209 rows and 8 columns\n"
     ]
    },
    {
     "data": {
      "text/html": [
       "<div>\n",
       "<style scoped>\n",
       "    .dataframe tbody tr th:only-of-type {\n",
       "        vertical-align: middle;\n",
       "    }\n",
       "\n",
       "    .dataframe tbody tr th {\n",
       "        vertical-align: top;\n",
       "    }\n",
       "\n",
       "    .dataframe thead th {\n",
       "        text-align: right;\n",
       "    }\n",
       "</style>\n",
       "<table border=\"1\" class=\"dataframe\">\n",
       "  <thead>\n",
       "    <tr style=\"text-align: right;\">\n",
       "      <th></th>\n",
       "      <th>a</th>\n",
       "      <th>p</th>\n",
       "      <th>compactness</th>\n",
       "      <th>length</th>\n",
       "      <th>width</th>\n",
       "      <th>coeff</th>\n",
       "      <th>length_g</th>\n",
       "      <th>type</th>\n",
       "    </tr>\n",
       "  </thead>\n",
       "  <tbody>\n",
       "    <tr>\n",
       "      <th>0</th>\n",
       "      <td>14.88</td>\n",
       "      <td>14.57</td>\n",
       "      <td>0.8811</td>\n",
       "      <td>5.554</td>\n",
       "      <td>3.333</td>\n",
       "      <td>1.018</td>\n",
       "      <td>4.956</td>\n",
       "      <td>1</td>\n",
       "    </tr>\n",
       "    <tr>\n",
       "      <th>1</th>\n",
       "      <td>14.29</td>\n",
       "      <td>14.09</td>\n",
       "      <td>0.9050</td>\n",
       "      <td>5.291</td>\n",
       "      <td>3.337</td>\n",
       "      <td>2.699</td>\n",
       "      <td>4.825</td>\n",
       "      <td>1</td>\n",
       "    </tr>\n",
       "    <tr>\n",
       "      <th>2</th>\n",
       "      <td>13.84</td>\n",
       "      <td>13.94</td>\n",
       "      <td>0.8955</td>\n",
       "      <td>5.324</td>\n",
       "      <td>3.379</td>\n",
       "      <td>2.259</td>\n",
       "      <td>4.805</td>\n",
       "      <td>1</td>\n",
       "    </tr>\n",
       "    <tr>\n",
       "      <th>3</th>\n",
       "      <td>16.14</td>\n",
       "      <td>14.99</td>\n",
       "      <td>0.9034</td>\n",
       "      <td>5.658</td>\n",
       "      <td>3.562</td>\n",
       "      <td>1.355</td>\n",
       "      <td>5.175</td>\n",
       "      <td>1</td>\n",
       "    </tr>\n",
       "    <tr>\n",
       "      <th>4</th>\n",
       "      <td>14.38</td>\n",
       "      <td>14.21</td>\n",
       "      <td>0.8951</td>\n",
       "      <td>5.386</td>\n",
       "      <td>3.312</td>\n",
       "      <td>2.462</td>\n",
       "      <td>4.956</td>\n",
       "      <td>1</td>\n",
       "    </tr>\n",
       "  </tbody>\n",
       "</table>\n",
       "</div>"
      ],
      "text/plain": [
       "       a      p  compactness  length  width  coeff  length_g  type\n",
       "0  14.88  14.57       0.8811   5.554  3.333  1.018     4.956     1\n",
       "1  14.29  14.09       0.9050   5.291  3.337  2.699     4.825     1\n",
       "2  13.84  13.94       0.8955   5.324  3.379  2.259     4.805     1\n",
       "3  16.14  14.99       0.9034   5.658  3.562  1.355     5.175     1\n",
       "4  14.38  14.21       0.8951   5.386  3.312  2.462     4.956     1"
      ]
     },
     "execution_count": 2,
     "metadata": {},
     "output_type": "execute_result"
    }
   ],
   "source": [
    "df = pd.read_csv(\"seeds_dataset.txt\", sep='\\\\t', engine='python')\n",
    "df.columns = ['a', 'p', 'compactness', 'length', 'width', 'coeff', 'length_g', 'type']   # we have to define the columns\n",
    "print(f'Our data has {df.shape[0]} rows and {df.shape[1]} columns')\n",
    "df.head()"
   ]
  },
  {
   "cell_type": "markdown",
   "metadata": {},
   "source": [
    "The classification column is type"
   ]
  },
  {
   "cell_type": "code",
   "execution_count": 3,
   "metadata": {},
   "outputs": [
    {
     "data": {
      "text/plain": [
       "type\n",
       "2    70\n",
       "3    70\n",
       "1    69\n",
       "Name: count, dtype: int64"
      ]
     },
     "execution_count": 3,
     "metadata": {},
     "output_type": "execute_result"
    }
   ],
   "source": [
    "\n",
    "df['type'].value_counts()"
   ]
  },
  {
   "cell_type": "markdown",
   "metadata": {},
   "source": [
    "70% of the data is separated for training, the rest is used as test data. The classification colunm is type, while the other columns represent different attributes of wheat. "
   ]
  },
  {
   "cell_type": "code",
   "execution_count": 4,
   "metadata": {},
   "outputs": [],
   "source": [
    "features = df[['a', 'p', 'compactness', 'length', 'width', 'coeff', 'length_g']]\n",
    "target_class = df['type']\n",
    "features = np.ascontiguousarray(features)\n",
    "target_class = np.ascontiguousarray(target_class)\n",
    "\n",
    "X_train, X_test, y_train, y_test = train_test_split(features, \n",
    "                                                    target_class, \n",
    "                                                    test_size=.3, \n",
    "                                                    random_state=13579)"
   ]
  },
  {
   "cell_type": "markdown",
   "metadata": {},
   "source": [
    "KNN is set to 3"
   ]
  },
  {
   "cell_type": "code",
   "execution_count": 5,
   "metadata": {},
   "outputs": [],
   "source": [
    "classifier = KNeighborsClassifier(n_neighbors=3)"
   ]
  },
  {
   "cell_type": "code",
   "execution_count": 6,
   "metadata": {},
   "outputs": [
    {
     "name": "stdout",
     "output_type": "stream",
     "text": [
      "The model accuracy is 88.8889%\n"
     ]
    }
   ],
   "source": [
    "classifier.fit(X_train, y_train)\n",
    "prediction = classifier.predict(X_test)\n",
    "print (f'The model accuracy is {accuracy_score(prediction, y_test):0.4%}')"
   ]
  },
  {
   "cell_type": "code",
   "execution_count": 7,
   "metadata": {},
   "outputs": [
    {
     "name": "stdout",
     "output_type": "stream",
     "text": [
      "k=  3 Accuracy= 88.8889%\n",
      "k=  5 Accuracy= 88.8889%\n",
      "k=  7 Accuracy= 92.0635%\n",
      "k=  9 Accuracy= 92.0635%\n",
      "k= 11 Accuracy= 93.6508%\n",
      "k= 13 Accuracy= 93.6508%\n",
      "k= 15 Accuracy= 92.0635%\n",
      "k= 17 Accuracy= 92.0635%\n",
      "k= 19 Accuracy= 92.0635%\n",
      "k= 21 Accuracy= 90.4762%\n",
      "k= 23 Accuracy= 90.4762%\n",
      "k= 25 Accuracy= 93.6508%\n",
      "k= 27 Accuracy= 93.6508%\n",
      "k= 29 Accuracy= 93.6508%\n",
      "k= 31 Accuracy= 93.6508%\n",
      "k= 33 Accuracy= 93.6508%\n",
      "k= 35 Accuracy= 93.6508%\n",
      "k= 37 Accuracy= 93.6508%\n",
      "k= 39 Accuracy= 93.6508%\n",
      "k= 41 Accuracy= 95.2381%\n",
      "k= 43 Accuracy= 93.6508%\n",
      "k= 45 Accuracy= 93.6508%\n",
      "k= 47 Accuracy= 93.6508%\n",
      "k= 49 Accuracy= 95.2381%\n",
      "k= 51 Accuracy= 95.2381%\n",
      "k= 53 Accuracy= 95.2381%\n",
      "k= 55 Accuracy= 95.2381%\n",
      "k= 57 Accuracy= 95.2381%\n",
      "k= 59 Accuracy= 95.2381%\n",
      "k= 61 Accuracy= 95.2381%\n",
      "k= 63 Accuracy= 95.2381%\n",
      "k= 65 Accuracy= 95.2381%\n",
      "k= 67 Accuracy= 95.2381%\n",
      "k= 69 Accuracy= 96.8254%\n",
      "k= 71 Accuracy= 93.6508%\n",
      "k= 73 Accuracy= 93.6508%\n",
      "k= 75 Accuracy= 92.0635%\n",
      "k= 77 Accuracy= 93.6508%\n",
      "k= 79 Accuracy= 93.6508%\n",
      "k= 81 Accuracy= 93.6508%\n",
      "k= 83 Accuracy= 96.8254%\n",
      "k= 85 Accuracy= 96.8254%\n",
      "k= 87 Accuracy= 95.2381%\n",
      "k= 89 Accuracy= 92.0635%\n",
      "k= 91 Accuracy= 93.6508%\n",
      "k= 93 Accuracy= 93.6508%\n",
      "k= 95 Accuracy= 93.6508%\n",
      "k= 97 Accuracy= 93.6508%\n",
      "k= 99 Accuracy= 95.2381%\n"
     ]
    },
    {
     "data": {
      "image/png": "[encoded data removed]",
      "text/plain": [
       "<Figure size 640x480 with 1 Axes>"
      ]
     },
     "metadata": {},
     "output_type": "display_data"
    }
   ],
   "source": [
    "results = []\n",
    "\n",
    "for k in range(3, 101, 2):   \n",
    "    classifier = KNeighborsClassifier(n_neighbors=k)\n",
    "    classifier.fit(X_train, y_train)\n",
    "    prediction = classifier.predict(X_test)\n",
    "    accuracy = accuracy_score(prediction, y_test)\n",
    "    print (f'k= {k:2} Accuracy= {accuracy:2.4%}')\n",
    "    \n",
    "    results.append([k, accuracy])\n",
    "\n",
    "results = pd.DataFrame(results, columns=[\"k\", \"accuracy\"])\n",
    "\n",
    "plt.plot(results.k, results.accuracy)\n",
    "plt.title(\"Value of k and Corresponding Classification Accuracy for Seed Data\")\n",
    "plt.grid()\n",
    "plt.show()"
   ]
  }
 ],
 "metadata": {
  "kernelspec": {
   "display_name": "Python 3",
   "language": "python",
   "name": "python3"
  },
  "language_info": {
   "codemirror_mode": {
    "name": "ipython",
    "version": 3
   },
   "file_extension": ".py",
   "mimetype": "text/x-python",
   "name": "python",
   "nbconvert_exporter": "python",
   "pygments_lexer": "ipython3",
   "version": "3.11.0"
  }
 },
 "nbformat": 4,
 "nbformat_minor": 2
}
